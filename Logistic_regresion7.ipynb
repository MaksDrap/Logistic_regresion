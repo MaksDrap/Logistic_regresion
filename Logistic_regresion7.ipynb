{
 "cells": [
  {
   "cell_type": "code",
   "execution_count": 1,
   "id": "ac0c9261",
   "metadata": {},
   "outputs": [],
   "source": [
    "import numpy as np\n",
    "import matplotlib.pyplot as plt\n",
    "import h5py\n",
    "import scipy\n",
    "from PIL import Image\n",
    "from scipy import ndimage\n",
    "import os\n",
    "cwd= os.getcwd()\n",
    "path = os.path.join(cwd,'data')"
   ]
  },
  {
   "cell_type": "code",
   "execution_count": 2,
   "id": "983811cb",
   "metadata": {},
   "outputs": [],
   "source": [
    "def load_dataset():\n",
    "    file_name=  os.path.join(path , 'train_catvnoncat.h5')\n",
    "    train_dataset = h5py.File(file_name, \"r\")\n",
    "    X_train = np.array(train_dataset[\"train_set_x\"][:]) # your train set features\n",
    "    Y_train = np.array(train_dataset[\"train_set_y\"][:]) # your train set labels\n",
    "    \n",
    "    file_name=  os.path.join(path , 'test_catvnoncat.h5')\n",
    "    test_dataset = h5py.File(file_name, \"r\")\n",
    "    X_test = np.array(test_dataset[\"test_set_x\"][:]) # your test set features\n",
    "    Y_test = np.array(test_dataset[\"test_set_y\"][:]) # your test set labels\n",
    "\n",
    "    classes = ['non-cat','cat']\n",
    "    \n",
    "    Y_train = Y_train.reshape(-1,1)\n",
    "    Y_test = Y_test.reshape(-1,1)\n",
    "    \n",
    "    return X_train, Y_train, X_test, Y_test, classes\n",
    "\n",
    "X_train,Y_train, X_test, Y_test, classes = load_dataset()"
   ]
  },
  {
   "cell_type": "code",
   "execution_count": 3,
   "id": "776abff9",
   "metadata": {},
   "outputs": [
    {
     "name": "stdout",
     "output_type": "stream",
     "text": [
      "X_train.shape=  (209, 64, 64, 3)\n",
      "X_test.shape=  (50, 64, 64, 3)\n",
      "Y_train.shape=  (209, 1)\n",
      "Y_test.shape=  (50, 1)\n"
     ]
    }
   ],
   "source": [
    "print ('X_train.shape= ',X_train.shape)\n",
    "print ('X_test.shape= ',X_test.shape)\n",
    "print ('Y_train.shape= ',Y_train.shape)\n",
    "print ('Y_test.shape= ',Y_test.shape)"
   ]
  },
  {
   "cell_type": "code",
   "execution_count": 4,
   "id": "9efa00d0",
   "metadata": {},
   "outputs": [
    {
     "name": "stdout",
     "output_type": "stream",
     "text": [
      "Number of training examples: m_train = 209\n",
      "Number of testing examples: m_test = 50\n",
      "Height/Width of each image: num_px = 64\n",
      "Each image is of size: (64, 64, 3)\n"
     ]
    }
   ],
   "source": [
    "m_train = X_train.shape[0]\n",
    "num_px = X_train.shape[1] \n",
    "m_test = X_test.shape[0]\n",
    "\n",
    "print (\"Number of training examples: m_train = \" + str(m_train))\n",
    "print (\"Number of testing examples: m_test = \" + str(m_test))\n",
    "print (\"Height/Width of each image: num_px = \" + str(num_px))\n",
    "print (\"Each image is of size: (\" + str(num_px) + \", \" + str(num_px) + \", 3)\")"
   ]
  },
  {
   "cell_type": "code",
   "execution_count": 5,
   "id": "a14cc26b",
   "metadata": {},
   "outputs": [
    {
     "name": "stdout",
     "output_type": "stream",
     "text": [
      "y = [0], it's a 'non-cat' picture.\n"
     ]
    },
    {
     "data": {
      "image/png": "[encoded data removed]",
      "text/plain": [
       "<Figure size 640x480 with 1 Axes>"
      ]
     },
     "metadata": {},
     "output_type": "display_data"
    }
   ],
   "source": [
    "index = 9\n",
    "plt.imshow(X_train[index])\n",
    "print (\"y = \" + str(Y_train[index,:]) + \", it's a '\" + classes[np.squeeze(Y_train[index,:])] +  \"' picture.\")"
   ]
  },
  {
   "cell_type": "code",
   "execution_count": 6,
   "id": "bf745098",
   "metadata": {},
   "outputs": [
    {
     "name": "stdout",
     "output_type": "stream",
     "text": [
      "Label 1 count: 72\n",
      "Label 0 count: 137\n"
     ]
    }
   ],
   "source": [
    "print ('Label 1 count:', np.sum(Y_train!=0))\n",
    "print ('Label 0 count:', np.sum(Y_train==0))"
   ]
  },
  {
   "cell_type": "code",
   "execution_count": 7,
   "id": "4e9d00ad",
   "metadata": {},
   "outputs": [
    {
     "name": "stdout",
     "output_type": "stream",
     "text": [
      "train_set_x_flatten shape: (209, 12288)\n",
      "test_set_x_flatten shape: (50, 12288)\n",
      "sanity check after reshaping: [17 31 56 22 33]\n"
     ]
    }
   ],
   "source": [
    "X_train_flatten = X_train.reshape(X_train.shape[0], -1)  # Розгорнути вектори для кожного зображення\n",
    "X_test_flatten = X_test.reshape(X_test.shape[0], -1)\n",
    "print (\"train_set_x_flatten shape: {}\".format(X_train_flatten.shape))\n",
    "print (\"test_set_x_flatten shape: {}\".format(X_test_flatten.shape))\n",
    "print (\"sanity check after reshaping: {}\".format(X_train_flatten[0, :5]))"
   ]
  },
  {
   "cell_type": "code",
   "execution_count": 8,
   "id": "58e03c2f",
   "metadata": {},
   "outputs": [
    {
     "name": "stdout",
     "output_type": "stream",
     "text": [
      "sigmoid([0, 2]) = [0.5        0.88079708]\n"
     ]
    }
   ],
   "source": [
    "X_train_scaled = X_train_flatten/255.\n",
    "X_test_scaled = X_test_flatten/255.\n",
    "def sigmoid(z):\n",
    "    return np.where(z >= 0, \n",
    "                    1 / (1 + np.exp(-z)), \n",
    "                    np.exp(z) / (1 + np.exp(z)))\n",
    "print (\"sigmoid([0, 2]) = \" + str(sigmoid(np.array([0,2]))))"
   ]
  },
  {
   "cell_type": "code",
   "execution_count": 9,
   "id": "452ff36c",
   "metadata": {},
   "outputs": [
    {
     "name": "stdout",
     "output_type": "stream",
     "text": [
      "sigmoid([0, 2]) = [0.5        0.88079708]\n"
     ]
    }
   ],
   "source": [
    "print (\"sigmoid([0, 2]) = \" + str(sigmoid(np.array([0,2]))))"
   ]
  },
  {
   "cell_type": "code",
   "execution_count": 10,
   "id": "7f077810",
   "metadata": {},
   "outputs": [
    {
     "name": "stdout",
     "output_type": "stream",
     "text": [
      "w = [[0. 0.]]\n",
      "b = 0\n"
     ]
    }
   ],
   "source": [
    "def initialize_with_zeros(dim):\n",
    "    w = np.zeros((1, dim))\n",
    "    b = 0.0\n",
    "\n",
    "    assert(w.shape == (1, dim))\n",
    "    assert(isinstance(b, float) or isinstance(b, int))\n",
    "    \n",
    "    return w, b\n",
    "\n",
    "dim = 2\n",
    "w, b = initialize_with_zeros(dim)\n",
    "print (\"w = \" + str(w))\n",
    "print (\"b = {:.0f}\".format(b))"
   ]
  },
  {
   "cell_type": "code",
   "execution_count": 11,
   "id": "c7bbb4ff",
   "metadata": {},
   "outputs": [
    {
     "name": "stdout",
     "output_type": "stream",
     "text": [
      "dJ_dw = [[1.33178935 3.06173906]]\n",
      "dJ_db = 0.001455578136784208\n",
      "cost = 6.6348786527278865\n"
     ]
    }
   ],
   "source": [
    "def propagate(w, b, X, Y, C=1):\n",
    "    m = X.shape[0]\n",
    "    \n",
    "    # Пряме поширення (Forward Propagation)\n",
    "    Z = np.dot(X, w.T) + b  # Обчислити ваговану суму\n",
    "    A = sigmoid(Z)  # Обчислити активацію (сигмоїд)\n",
    "    \n",
    "    # Обчислення функції втрат\n",
    "    cost = -1/m * np.sum(Y * np.log(A) + (1 - Y) * np.log(1 - A)) + C/(2*m) * np.sum(w * w)\n",
    "    \n",
    "    # Зворотне поширення (Backward Propagation)\n",
    "    dJ_dw = 1/m * np.dot((A - Y).T, X) + C/m * w\n",
    "    dJ_db = 1/m * np.sum(A - Y)\n",
    "\n",
    "    assert(dJ_dw.shape == w.shape)\n",
    "    assert(dJ_db.dtype == float)\n",
    "    assert(cost.dtype == float)\n",
    "\n",
    "    grads = {\"dJ_dw\": dJ_dw,\n",
    "             \"dJ_db\": dJ_db}\n",
    "\n",
    "    return grads, cost\n",
    "\n",
    "w, b, X, Y = np.array([[1., 2.]]), 2., np.array([[1.,2.,-1.],[3.,4.,-3.2]]).T, np.array([[1,0,1]]).T\n",
    "grads, cost = propagate(w, b, X, Y)\n",
    "print (\"dJ_dw = \" + str(grads[\"dJ_dw\"]))\n",
    "print (\"dJ_db = \" + str(grads[\"dJ_db\"]))\n",
    "print (\"cost = \" + str(cost))"
   ]
  },
  {
   "cell_type": "code",
   "execution_count": 12,
   "id": "b451225d",
   "metadata": {},
   "outputs": [
    {
     "name": "stdout",
     "output_type": "stream",
     "text": [
      "w = [[ 0.08006006 -0.02399336]]\n",
      "b = 1.9060971483059892\n",
      "dw = [[0.62090316 1.19256883]]\n",
      "db = 0.2084129285706479\n"
     ]
    }
   ],
   "source": [
    "def optimize(w, b, X, Y, num_iterations, learning_rate, C=1, verbose=False):\n",
    "    costs = []  # Список для зберігання значень витрат\n",
    "\n",
    "    for i in range(num_iterations):\n",
    "        # Обчислити витрати та градієнти\n",
    "        grads, cost = propagate(w, b, X, Y, C)\n",
    "\n",
    "        # Отримати градієнти\n",
    "        dJ_dw = grads[\"dJ_dw\"]\n",
    "        dJ_db = grads[\"dJ_db\"]\n",
    "\n",
    "        # Оновити параметри\n",
    "        w = w - learning_rate * dJ_dw\n",
    "        b = b - learning_rate * dJ_db\n",
    "\n",
    "        # Записати витрати\n",
    "        if i % 100 == 0:\n",
    "            costs.append(cost)\n",
    "\n",
    "        # Вивести витрати через кожні 100 ітерацій, якщо verbose=True\n",
    "        if verbose and i % 100 == 0:\n",
    "            print(\"Cost after iteration %i: %f\" % (i, cost))\n",
    "\n",
    "    params = {\"w\": w, \"b\": b}\n",
    "    grads = {\"dJ_dw\": dJ_dw, \"dJ_db\": dJ_db}\n",
    "\n",
    "    return params, grads, costs\n",
    "params, grads, costs = optimize(w, b, X, Y, num_iterations= 100, learning_rate = 0.009, verbose = False)\n",
    "\n",
    "print (\"w = \" + str(params[\"w\"]))\n",
    "print (\"b = \" + str(params[\"b\"]))\n",
    "print (\"dw = \" + str(grads[\"dJ_dw\"]))\n",
    "print (\"db = \" + str(grads[\"dJ_db\"]))"
   ]
  },
  {
   "cell_type": "code",
   "execution_count": 13,
   "id": "d9732420",
   "metadata": {},
   "outputs": [
    {
     "name": "stdout",
     "output_type": "stream",
     "text": [
      "predictions = \n",
      "[[1]\n",
      " [1]\n",
      " [0]]\n"
     ]
    }
   ],
   "source": [
    "def predict(w, b, X):\n",
    "    m, n = X.shape\n",
    "    assert (w.shape == (1, n))\n",
    "    A = sigmoid(np.dot(X, w.T) + b)\n",
    "\n",
    "    Y_prediction = (A > 0.5).astype(int)\n",
    "\n",
    "    assert (Y_prediction.shape == (m, 1))\n",
    "\n",
    "    return Y_prediction\n",
    "\n",
    "w = np.array([[0.1124579],[0.23106775]]).T\n",
    "b = -0.3\n",
    "X = np.array([[1.,-1.1,-3.2],[1.2,2.,0.1]]).T\n",
    "print (\"predictions = \\n{}\".format (predict(w, b, X)))"
   ]
  },
  {
   "cell_type": "code",
   "execution_count": 23,
   "id": "e3ea0ed1",
   "metadata": {
    "scrolled": true
   },
   "outputs": [
    {
     "name": "stdout",
     "output_type": "stream",
     "text": [
      "Cost after iteration 0: 0.693147\n",
      "Cost after iteration 100: 0.415955\n",
      "Cost after iteration 200: 0.429003\n",
      "Cost after iteration 300: 0.615849\n",
      "Cost after iteration 400: 0.526897\n",
      "Cost after iteration 500: 0.395729\n",
      "Cost after iteration 600: 0.245941\n",
      "Cost after iteration 700: 0.159106\n",
      "Cost after iteration 800: 0.138930\n",
      "Cost after iteration 900: 0.128859\n",
      "Train accuracy: 98.565%\n",
      "Test accuracy: 70.000%\n"
     ]
    }
   ],
   "source": [
    "def model(X_train, Y_train, X_test, Y_test, num_iterations=2000, learning_rate=0.5, verbose=False, C=1):\n",
    "    dim = X_train.shape[1]\n",
    "    w, b = initialize_with_zeros(dim)\n",
    "    \n",
    "    parameters, grads, costs = optimize(w, b, X_train, Y_train, num_iterations, learning_rate, C, verbose)\n",
    "\n",
    "    w = parameters[\"w\"]\n",
    "    b = parameters[\"b\"]\n",
    "    \n",
    "    Y_prediction_test = predict(w, b, X_test)\n",
    "    Y_prediction_train = predict(w, b, X_train)\n",
    "    \n",
    "    train_accuracy = np.mean(Y_prediction_train == Y_train)\n",
    "    test_accuracy = np.mean(Y_prediction_test == Y_test)\n",
    "    print(\"Train accuracy: {:.3%}\".format(train_accuracy))\n",
    "    print(\"Test accuracy: {:.3%}\".format(test_accuracy))\n",
    "    \n",
    "    res = {\n",
    "        'costs': costs,\n",
    "        'Y_prediction_test': Y_prediction_test, \n",
    "        'Y_prediction_train': Y_prediction_train, \n",
    "        'w': w, \n",
    "        'b': b,\n",
    "        'learning_rate': learning_rate,\n",
    "        'num_iterations': num_iterations,\n",
    "        'C': C\n",
    "    }\n",
    "    \n",
    "    return res\n",
    "\n",
    "res = model(X_train=X_train_scaled,\n",
    "            Y_train=Y_train, \n",
    "            X_test=X_test_scaled, \n",
    "            Y_test=Y_test, \n",
    "            num_iterations=1000, \n",
    "            learning_rate=0.01, \n",
    "            verbose=True,\n",
    "            C=0.3 \n",
    "           )"
   ]
  },
  {
   "cell_type": "code",
   "execution_count": null,
   "id": "af0ea606",
   "metadata": {},
   "outputs": [],
   "source": []
  }
 ],
 "metadata": {
  "language_info": {
   "codemirror_mode": {
    "name": "ipython",
    "version": 3
   },
   "file_extension": ".py",
   "mimetype": "text/x-python",
   "name": "python",
   "nbconvert_exporter": "python",
   "pygments_lexer": "ipython3",
   "version": "3.11.5"
  }
 },
 "nbformat": 4,
 "nbformat_minor": 5
}
